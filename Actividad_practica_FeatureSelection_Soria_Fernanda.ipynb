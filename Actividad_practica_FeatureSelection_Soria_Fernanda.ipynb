{
  "cells": [
    {
      "cell_type": "markdown",
      "metadata": {
        "id": "view-in-github",
        "colab_type": "text"
      },
      "source": [
        "<a href=\"https://colab.research.google.com/github/fsoria/Machine-Learning-Prediction-bank-churn/blob/main/Actividad_practica_FeatureSelection_Soria_Fernanda.ipynb\" target=\"_parent\"><img src=\"https://colab.research.google.com/assets/colab-badge.svg\" alt=\"Open In Colab\"/></a>"
      ]
    },
    {
      "cell_type": "markdown",
      "metadata": {
        "id": "CtahR-qYSGvy"
      },
      "source": [
        "#Presentación del problema"
      ]
    },
    {
      "cell_type": "markdown",
      "metadata": {
        "id": "keASb6dL4tdK"
      },
      "source": [
        "**Contexto comercial**"
      ]
    },
    {
      "cell_type": "markdown",
      "metadata": {
        "id": "7iNQgghY4qfU"
      },
      "source": [
        "El sector bancario es altamente competitivo y la retención de clientes es fundamental. Adquirir nuevos clientes es más costoso que retener a los existentes."
      ]
    },
    {
      "cell_type": "markdown",
      "metadata": {
        "id": "a6Bazg8O4zb4"
      },
      "source": [
        "**Problema comercial**"
      ]
    },
    {
      "cell_type": "markdown",
      "metadata": {
        "id": "rV_rUhpI41lt"
      },
      "source": [
        "Existe una tasa de abandono de clientes que puede impactar negativamente la rentabilidad del banco. Es necesario entender las causas de este abandono para tomar medidas preventivas."
      ]
    },
    {
      "cell_type": "markdown",
      "metadata": {
        "id": "2lbcZ8djeFIZ"
      },
      "source": [
        "**Objetivo**"
      ]
    },
    {
      "cell_type": "markdown",
      "metadata": {
        "id": "VfydfwizSRKc"
      },
      "source": [
        "\n",
        "El objetivo principal es crear un modelo de clasificación que prediga con precisión si un cliente abandonará o no el banco. Además, se busca analizar el conjunto de datos para identificar los factores clave que influyen en la decisión de abandono y realizar recomendaciones estratégicas que permitan al banco retener a sus clientes y minimizar pérdidas."
      ]
    },
    {
      "cell_type": "markdown",
      "metadata": {
        "id": "tUoyypLoKwO9"
      },
      "source": [
        "Presentacion de temas en google slices\n",
        "https://docs.google.com/presentation/d/1CamMJ_Aw53svUzCmgpbaedSBAevcBlCpc3x4dzsu690/edit?usp=sharing"
      ]
    },
    {
      "cell_type": "markdown",
      "metadata": {
        "id": "h81IcTmI4ON-"
      },
      "source": [
        "#Metadatos"
      ]
    },
    {
      "cell_type": "markdown",
      "metadata": {
        "id": "dy6TQQiL3wYa"
      },
      "source": [
        "Dataset: https://github.com/fsoria/Machine-Lerarning-Prediction-bank-churn-II/blob/main/BankChurners.csv\n",
        "\n",
        "Fuente: https://www.kaggle.com/datasets/sakshigoyal7/credit-card-customers/data"
      ]
    },
    {
      "cell_type": "markdown",
      "metadata": {
        "id": "SvQ2YFSXeIE3"
      },
      "source": [
        "**Descripcion de variables**"
      ]
    },
    {
      "cell_type": "markdown",
      "metadata": {
        "id": "Bamx1CuxVcIt"
      },
      "source": [
        "\n",
        "*   **CLIENTNUM**: Número de cliente (identificador único)\n",
        "*   **Customer_Age**: Edad del cliente en años.\n",
        "*   **Gender**: Género del cliente (Masculino o Femenino).\n",
        "*   **Dependent_count**: Número de personas que dependen del cliente.\n",
        "*   **Education_Level**: Nivel de educación del cliente.\n",
        "*   **Marital_Status**: Estado civil del cliente.\n",
        "*   **Income_Category**: Categoría de ingresos anuales del cliente.\n",
        "*   **Card_Category**: Tipo de tarjeta de crédito del cliente.\n",
        "*   **Months_on_book**: Número de meses que el cliente ha sido cliente del banco.\n",
        "*   **Total_Relationship_Count**: Número total de productos que el cliente tiene con el banco.\n",
        "*   **Months_Inactive_12_mon**: Número de meses que el cliente ha estado inactivo en los últimos 12 meses.\n",
        "*   **Contacts_Count_12_mon**: Número de veces que el cliente ha contactado al banco en los últimos 12 meses.\n",
        "*   **Credit_Limit**: Límite de crédito de la tarjeta de crédito del cliente.\n",
        "*   **Total_Revolving_Bal**: Saldo rotatorio total en la tarjeta de crédito del cliente.\n",
        "*   **Avg_Open_To_Buy**: Promedio de línea de crédito disponible para el cliente.\n",
        "*   **Total_Amt_Chng_Q4_Q1**: Cambio en el monto total de transacciones entre el cuarto trimestre y el primer trimestre.\n",
        "*   **Total_Trans_Amt**: Monto total de transacciones realizadas por el cliente en los últimos 12 meses.\n",
        "*   **Total_Trans_Ct**: Número total de transacciones realizadas por el cliente en los últimos 12 meses.\n",
        "*   **Total_Ct_Chng_Q4_Q1**: Cambio en el número total de transacciones entre el cuarto trimestre y el primer trimestre.\n",
        "*   **Avg_Utilization_Ratio**: Tasa promedio de utilización del crédito (saldo rotatorio total / límite de crédito).\n",
        "*   **Attrition_Flag**: Indica si el cliente ha abandonado el banco (Attrited Customer) o no (Existing Customer).\n"
      ]
    },
    {
      "cell_type": "markdown",
      "metadata": {
        "id": "wVHe79qH5-zm"
      },
      "source": [
        "#Transformacion de datos"
      ]
    },
    {
      "cell_type": "markdown",
      "metadata": {
        "id": "JPleB9wVdWC0"
      },
      "source": [
        "**Principales Librerías**"
      ]
    },
    {
      "cell_type": "code",
      "execution_count": 1,
      "metadata": {
        "id": "9Hf15a2Ydl4T",
        "outputId": "e907c5b7-77e4-430e-ff55-54d7b52155f1",
        "colab": {
          "base_uri": "https://localhost:8080/",
          "height": 356
        }
      },
      "outputs": [
        {
          "output_type": "error",
          "ename": "KeyboardInterrupt",
          "evalue": "",
          "traceback": [
            "\u001b[0;31m---------------------------------------------------------------------------\u001b[0m",
            "\u001b[0;31mKeyboardInterrupt\u001b[0m                         Traceback (most recent call last)",
            "\u001b[0;32m<ipython-input-1-aa885b627e06>\u001b[0m in \u001b[0;36m<cell line: 20>\u001b[0;34m()\u001b[0m\n\u001b[1;32m     18\u001b[0m \u001b[0;32mfrom\u001b[0m \u001b[0mscipy\u001b[0m\u001b[0;34m.\u001b[0m\u001b[0mstats\u001b[0m \u001b[0;32mimport\u001b[0m \u001b[0mchi2_contingency\u001b[0m\u001b[0;34m\u001b[0m\u001b[0;34m\u001b[0m\u001b[0m\n\u001b[1;32m     19\u001b[0m \u001b[0;32mimport\u001b[0m \u001b[0mnumpy\u001b[0m \u001b[0;32mas\u001b[0m \u001b[0mnp\u001b[0m\u001b[0;34m\u001b[0m\u001b[0;34m\u001b[0m\u001b[0m\n\u001b[0;32m---> 20\u001b[0;31m \u001b[0;32mimport\u001b[0m \u001b[0mstatsmodels\u001b[0m\u001b[0;34m.\u001b[0m\u001b[0mapi\u001b[0m \u001b[0;32mas\u001b[0m \u001b[0msm\u001b[0m\u001b[0;34m\u001b[0m\u001b[0;34m\u001b[0m\u001b[0m\n\u001b[0m\u001b[1;32m     21\u001b[0m \u001b[0;32mimport\u001b[0m \u001b[0mseaborn\u001b[0m \u001b[0;32mas\u001b[0m \u001b[0msns\u001b[0m\u001b[0;34m\u001b[0m\u001b[0;34m\u001b[0m\u001b[0m\n\u001b[1;32m     22\u001b[0m \u001b[0;32mimport\u001b[0m \u001b[0mmatplotlib\u001b[0m\u001b[0;34m.\u001b[0m\u001b[0mpyplot\u001b[0m \u001b[0;32mas\u001b[0m \u001b[0mplt\u001b[0m\u001b[0;34m\u001b[0m\u001b[0;34m\u001b[0m\u001b[0m\n",
            "\u001b[0;32m/usr/local/lib/python3.10/dist-packages/statsmodels/api.py\u001b[0m in \u001b[0;36m<module>\u001b[0;34m\u001b[0m\n\u001b[1;32m    136\u001b[0m \u001b[0;32mfrom\u001b[0m \u001b[0;34m.\u001b[0m\u001b[0mregression\u001b[0m\u001b[0;34m.\u001b[0m\u001b[0mrecursive_ls\u001b[0m \u001b[0;32mimport\u001b[0m \u001b[0mRecursiveLS\u001b[0m\u001b[0;34m\u001b[0m\u001b[0;34m\u001b[0m\u001b[0m\n\u001b[1;32m    137\u001b[0m \u001b[0;32mfrom\u001b[0m \u001b[0;34m.\u001b[0m\u001b[0mrobust\u001b[0m\u001b[0;34m.\u001b[0m\u001b[0mrobust_linear_model\u001b[0m \u001b[0;32mimport\u001b[0m \u001b[0mRLM\u001b[0m\u001b[0;34m\u001b[0m\u001b[0;34m\u001b[0m\u001b[0m\n\u001b[0;32m--> 138\u001b[0;31m \u001b[0;32mfrom\u001b[0m \u001b[0;34m.\u001b[0m\u001b[0mstats\u001b[0m \u001b[0;32mimport\u001b[0m \u001b[0mapi\u001b[0m \u001b[0;32mas\u001b[0m \u001b[0mstats\u001b[0m\u001b[0;34m\u001b[0m\u001b[0;34m\u001b[0m\u001b[0m\n\u001b[0m\u001b[1;32m    139\u001b[0m \u001b[0;32mfrom\u001b[0m \u001b[0;34m.\u001b[0m\u001b[0mtools\u001b[0m\u001b[0;34m.\u001b[0m\u001b[0mprint_version\u001b[0m \u001b[0;32mimport\u001b[0m \u001b[0mshow_versions\u001b[0m\u001b[0;34m\u001b[0m\u001b[0;34m\u001b[0m\u001b[0m\n\u001b[1;32m    140\u001b[0m \u001b[0;32mfrom\u001b[0m \u001b[0;34m.\u001b[0m\u001b[0mtools\u001b[0m\u001b[0;34m.\u001b[0m\u001b[0mtools\u001b[0m \u001b[0;32mimport\u001b[0m \u001b[0madd_constant\u001b[0m\u001b[0;34m,\u001b[0m \u001b[0mcategorical\u001b[0m\u001b[0;34m\u001b[0m\u001b[0;34m\u001b[0m\u001b[0m\n",
            "\u001b[0;32m/usr/local/lib/python3.10/dist-packages/statsmodels/stats/api.py\u001b[0m in \u001b[0;36m<module>\u001b[0;34m\u001b[0m\n\u001b[1;32m    104\u001b[0m     cov_nearest_factor_homog, FactoredPSDMatrix)\n\u001b[1;32m    105\u001b[0m \u001b[0;34m\u001b[0m\u001b[0m\n\u001b[0;32m--> 106\u001b[0;31m \u001b[0;32mfrom\u001b[0m \u001b[0mstatsmodels\u001b[0m\u001b[0;34m.\u001b[0m\u001b[0msandbox\u001b[0m\u001b[0;34m.\u001b[0m\u001b[0mstats\u001b[0m\u001b[0;34m.\u001b[0m\u001b[0mruns\u001b[0m \u001b[0;32mimport\u001b[0m \u001b[0mRuns\u001b[0m\u001b[0;34m,\u001b[0m \u001b[0mrunstest_1samp\u001b[0m\u001b[0;34m,\u001b[0m \u001b[0mrunstest_2samp\u001b[0m\u001b[0;34m\u001b[0m\u001b[0;34m\u001b[0m\u001b[0m\n\u001b[0m\u001b[1;32m    107\u001b[0m \u001b[0;34m\u001b[0m\u001b[0m\n\u001b[1;32m    108\u001b[0m from statsmodels.stats.contingency_tables import (mcnemar, cochrans_q,\n",
            "\u001b[0;31mKeyboardInterrupt\u001b[0m: "
          ]
        }
      ],
      "source": [
        "import pandas as pd\n",
        "from sklearn.model_selection import train_test_split\n",
        "from sklearn.preprocessing import StandardScaler, OneHotEncoder\n",
        "from sklearn.compose import ColumnTransformer\n",
        "from sklearn.pipeline import Pipeline\n",
        "from sklearn.linear_model import LogisticRegression\n",
        "from sklearn.linear_model import LinearRegression\n",
        "from sklearn.metrics import accuracy_score\n",
        "from sklearn.ensemble import RandomForestClassifier\n",
        "from sklearn.ensemble import GradientBoostingClassifier\n",
        "from sklearn.svm import SVC\n",
        "from xgboost import XGBClassifier\n",
        "from sklearn.neural_network import MLPClassifier\n",
        "from sklearn.metrics import accuracy_score, classification_report, confusion_matrix\n",
        "from sklearn.model_selection import train_test_split\n",
        "from sklearn.feature_selection import SelectKBest, f_classif\n",
        "from sklearn.preprocessing import LabelEncoder\n",
        "from scipy.stats import chi2_contingency\n",
        "import numpy as np\n",
        "import statsmodels.api as sm\n",
        "import seaborn as sns\n",
        "import matplotlib.pyplot as plt\n",
        "from sklearn.tree import DecisionTreeClassifier\n",
        "from sklearn.ensemble import AdaBoostClassifier, RandomForestClassifier, GradientBoostingClassifier, ExtraTreesClassifier\n",
        "from sklearn.neighbors import KNeighborsClassifier\n",
        "from sklearn.discriminant_analysis import LinearDiscriminantAnalysis\n",
        "from sklearn.model_selection import cross_val_score, StratifiedKFold\n",
        "from sklearn.model_selection import learning_curve\n",
        "from sklearn.model_selection import GridSearchCV\n",
        "from sklearn.metrics import roc_auc_score"
      ]
    },
    {
      "cell_type": "markdown",
      "metadata": {
        "id": "QLs_GPTXdgZX"
      },
      "source": [
        "**Importación de datos**"
      ]
    },
    {
      "cell_type": "code",
      "execution_count": null,
      "metadata": {
        "id": "AsqCRm4vdmku"
      },
      "outputs": [],
      "source": [
        "url = \"https://raw.githubusercontent.com/fsoria/Machinge-Lerarning---Bank-Churners-II/refs/heads/main/BankChurners.csv\"\n",
        "dataset = pd.read_csv(url)"
      ]
    },
    {
      "cell_type": "code",
      "execution_count": null,
      "metadata": {
        "id": "5EoCZ3h7eOQ1"
      },
      "outputs": [],
      "source": [
        "dataset.info()"
      ]
    },
    {
      "cell_type": "code",
      "execution_count": null,
      "metadata": {
        "id": "t9Iu9obsvFFn"
      },
      "outputs": [],
      "source": [
        "dataset.head()"
      ]
    },
    {
      "cell_type": "code",
      "execution_count": null,
      "metadata": {
        "id": "HGdsHICgr9Cr"
      },
      "outputs": [],
      "source": [
        "dataset.describe()"
      ]
    },
    {
      "cell_type": "code",
      "execution_count": null,
      "metadata": {
        "id": "noi0QdCPdsam"
      },
      "outputs": [],
      "source": [
        "dataset.isna().sum()"
      ]
    },
    {
      "cell_type": "markdown",
      "metadata": {
        "id": "Hv0BOO0Cdlw5"
      },
      "source": [
        "**Transformación y limpieza de datos**"
      ]
    },
    {
      "cell_type": "code",
      "execution_count": null,
      "metadata": {
        "id": "DluIrHAX9V4s"
      },
      "outputs": [],
      "source": [
        "dataset['Unnamed: 21'].unique()"
      ]
    },
    {
      "cell_type": "code",
      "execution_count": null,
      "metadata": {
        "id": "v8HLYKEY9eyG"
      },
      "outputs": [],
      "source": [
        "dataset.drop(columns=['Unnamed: 21'], inplace=True)\n"
      ]
    },
    {
      "cell_type": "code",
      "source": [
        "dataset.drop(columns=[\"CLIENTNUM\"], inplace=True)"
      ],
      "metadata": {
        "id": "-hu4hXVFtSUm"
      },
      "execution_count": null,
      "outputs": []
    },
    {
      "cell_type": "markdown",
      "metadata": {
        "id": "ZEJl0ikm_P34"
      },
      "source": [
        "#Análisis exploratorio de datos"
      ]
    },
    {
      "cell_type": "markdown",
      "metadata": {
        "id": "MHkIKbQnXWtz"
      },
      "source": [
        "###Analisis univariado"
      ]
    },
    {
      "cell_type": "markdown",
      "metadata": {
        "id": "iE0mFEop3zGp"
      },
      "source": [
        "**Abandono de clientes**"
      ]
    },
    {
      "cell_type": "code",
      "execution_count": null,
      "metadata": {
        "id": "AZRmfpWg31OA"
      },
      "outputs": [],
      "source": [
        "attrition_counts = dataset.Attrition_Flag.value_counts()"
      ]
    },
    {
      "cell_type": "code",
      "execution_count": null,
      "metadata": {
        "id": "CyayrZmt35Po"
      },
      "outputs": [],
      "source": [
        "plt.figure(figsize=(8, 6))\n",
        "plt.pie(attrition_counts, labels=attrition_counts.index, autopct='%1.1f%%', startangle=90, colors=['lightblue', 'lightcoral'])\n",
        "plt.title('Abandono de Clientes')\n",
        "plt.axis('equal')\n",
        "plt.show()"
      ]
    },
    {
      "cell_type": "markdown",
      "metadata": {
        "id": "aY5u799dA7jf"
      },
      "source": [
        "**Edad de clientes**"
      ]
    },
    {
      "cell_type": "code",
      "execution_count": null,
      "metadata": {
        "id": "pEow7iNkkHfA"
      },
      "outputs": [],
      "source": [
        "dataset.Customer_Age.describe()"
      ]
    },
    {
      "cell_type": "markdown",
      "metadata": {
        "id": "GpsCupiOBAPm"
      },
      "source": [
        "Hacemos un análisis de acuerdo a las medidas descriptivas a traves de .describe(), con el objetivo identificar outliers, verificar la razonabilidad de los datos y obtener la edad promedio de 46 años."
      ]
    },
    {
      "cell_type": "code",
      "source": [
        "sns.histplot(dataset['Customer_Age'], kde=True)\n",
        "plt.title(\"Distribución de la Edad\")\n",
        "plt.show()"
      ],
      "metadata": {
        "id": "oJlY-B7UJYSY"
      },
      "execution_count": null,
      "outputs": []
    },
    {
      "cell_type": "markdown",
      "metadata": {
        "id": "BWDDr46Y-EqZ"
      },
      "source": [
        "El gráfico de distribucion de edades nos muestra que la mayor acumulacion de edades se concentra entre el rango de 30 y 50 años. A partir de los 50 años la cantidad de clientes disminuye."
      ]
    },
    {
      "cell_type": "markdown",
      "metadata": {
        "id": "dHLKBCGVE7N2"
      },
      "source": [
        "**Categorías de ingresos de clientes**"
      ]
    },
    {
      "cell_type": "code",
      "execution_count": null,
      "metadata": {
        "id": "qR54IgPnhajC"
      },
      "outputs": [],
      "source": [
        "dataset['Income_Category'].value_counts(normalize=True) * 100\n"
      ]
    },
    {
      "cell_type": "code",
      "execution_count": null,
      "metadata": {
        "id": "CE43moQ-fSC8"
      },
      "outputs": [],
      "source": [
        "plt.figure(figsize=(12, 6))\n",
        "sns.countplot(data=dataset, y='Income_Category', order=dataset['Income_Category'].value_counts().index)\n",
        "plt.title(\"Distribución de Categoría de Ingresos\")\n",
        "plt.xlabel(\"Frecuencia\")\n",
        "plt.ylabel(\"Categoría de Ingresos\")\n",
        "plt.show()"
      ]
    },
    {
      "cell_type": "markdown",
      "metadata": {
        "id": "OH92-M_7FDxK"
      },
      "source": [
        "El gráfico muestra la distribución de las categorías de ingresos agrupadas en 6 grandes grupos. Se observa que la mayor concentración de clientes se encuentra en la categoría \"Less than $40K\". Le sigue en frecuencia la categoría \"$40K - $60K\", mostrando una distribución descendente en las demás categorías."
      ]
    },
    {
      "cell_type": "markdown",
      "source": [
        "**Estado civil por cliente**"
      ],
      "metadata": {
        "id": "Po_7ckpvmlSQ"
      }
    },
    {
      "cell_type": "code",
      "source": [
        "sns.countplot(x=dataset['Marital_Status'], palette=\"Pastel1\")\n",
        "plt.title(\"Distribución del Estado Civil\")\n",
        "plt.xlabel(\"Estado Civil\")\n",
        "plt.ylabel(\"Cantidad\")\n",
        "plt.xticks(rotation=45)\n",
        "plt.show()\n"
      ],
      "metadata": {
        "id": "tup2WrlJmhhC"
      },
      "execution_count": null,
      "outputs": []
    },
    {
      "cell_type": "markdown",
      "source": [
        "**Nivel de educacion por cliente**"
      ],
      "metadata": {
        "id": "qlYpgQmRqMXt"
      }
    },
    {
      "cell_type": "code",
      "source": [
        "sns.countplot(x=dataset['Education_Level'], palette=\"Set3\")\n",
        "plt.title(\"Distribución del Nivel Educativo\")\n",
        "plt.xlabel(\"Nivel Educativo\")\n",
        "plt.ylabel(\"Cantidad\")\n",
        "plt.xticks(rotation=45)\n",
        "plt.show()\n"
      ],
      "metadata": {
        "id": "ap7Y24d6qQmJ"
      },
      "execution_count": null,
      "outputs": []
    },
    {
      "cell_type": "markdown",
      "metadata": {
        "id": "yGug4RwHGRoA"
      },
      "source": [
        "**Cantidad de productos por clientes**"
      ]
    },
    {
      "cell_type": "code",
      "execution_count": null,
      "metadata": {
        "id": "Ik5ZWs7ifbsy"
      },
      "outputs": [],
      "source": [
        "sns.countplot(x='Total_Relationship_Count', data=dataset)\n",
        "plt.title('Distribución de Total_Relationship_Count')\n",
        "plt.show()"
      ]
    },
    {
      "cell_type": "markdown",
      "metadata": {
        "id": "X6lbwqtDHMN5"
      },
      "source": [
        "El gráfico muestra la distribución de la cantidad de productos bancarios por cliente. Se observa que la mayoría de los clientes tienen 3 productos, representando la mayor concentración. Las cantidades de clientes con 4, 5 y 6 productos son menores, pero similares entre sí."
      ]
    },
    {
      "cell_type": "markdown",
      "metadata": {
        "id": "f-ZNpXXuHq64"
      },
      "source": [
        "**Límite de credito por cliente**"
      ]
    },
    {
      "cell_type": "code",
      "execution_count": null,
      "metadata": {
        "id": "uUicPb93fnt2"
      },
      "outputs": [],
      "source": [
        "sns.histplot(dataset['Credit_Limit'], kde=True)\n",
        "plt.title(\"Distribución de Credit_Limit\")\n",
        "plt.show()"
      ]
    },
    {
      "cell_type": "markdown",
      "metadata": {
        "id": "_yfc6WgtVwXO"
      },
      "source": [
        "El histograma muestra una distribución del límite de crédito con la mayoría de clientes en límites bajos. Se observa un pico de frecuencia en 1750 clientes para límites de crédito menores a 5000, luego decrece y remonta en límites mayores a 35000 pero para una menor cantidad de clientes."
      ]
    },
    {
      "cell_type": "markdown",
      "source": [
        "**Categoria de tarjetas por clientes**\n"
      ],
      "metadata": {
        "id": "xfPSrMa2p_At"
      }
    },
    {
      "cell_type": "code",
      "source": [
        "sns.countplot(x=dataset['Card_Category'], palette=\"Set2\")\n",
        "plt.title(\"Distribución de Categorías de Tarjeta\")\n",
        "plt.xlabel(\"Categoría de Tarjeta\")\n",
        "plt.ylabel(\"Cantidad\")\n",
        "plt.xticks(rotation=45)\n",
        "plt.show()\n"
      ],
      "metadata": {
        "id": "nJW5nSEPqC_W"
      },
      "execution_count": null,
      "outputs": []
    },
    {
      "cell_type": "markdown",
      "metadata": {
        "id": "pKNQgm5xV8CD"
      },
      "source": [
        "**Cantidad de transacciones por clientes**"
      ]
    },
    {
      "cell_type": "code",
      "execution_count": null,
      "metadata": {
        "id": "8_Q7wkKcH4yd"
      },
      "outputs": [],
      "source": [
        "plt.figure(figsize=(10, 6))\n",
        "sns.histplot(dataset['Total_Trans_Ct'], bins=30, kde=True, palette=\"Set2\")\n",
        "plt.title('Distribución de la Cantidad de Transacciones')\n",
        "plt.xlabel('Cantidad de Transacciones')\n",
        "plt.ylabel('Frecuencia')\n",
        "plt.show()"
      ]
    },
    {
      "cell_type": "markdown",
      "metadata": {
        "id": "DjpxiCFwWRP5"
      },
      "source": [
        "El gráfico muestra que la mayoría de los clientes realizan entre 40 y 80 transacciones. La distribución indica que pocos clientes realizan menos de 20 o más de 120 transacciones."
      ]
    },
    {
      "cell_type": "markdown",
      "metadata": {
        "id": "cgYWFV63WjA7"
      },
      "source": [
        "**Cantidad de meses inactivos por cliente**"
      ]
    },
    {
      "cell_type": "code",
      "execution_count": null,
      "metadata": {
        "id": "M4wMa8YiIKId"
      },
      "outputs": [],
      "source": [
        "plt.figure(figsize=(10, 6))\n",
        "sns.histplot(y='Months_Inactive_12_mon', data=dataset, bins=12, palette=\"Set2\")\n",
        "plt.title('Distribución de la Cantidad de Meses Inactivos')\n",
        "plt.ylabel('Cantidad de Meses Inactivos')\n",
        "plt.xlabel('Frecuencia')\n",
        "plt.show()"
      ]
    },
    {
      "cell_type": "markdown",
      "metadata": {
        "id": "PPURMr_-WmWO"
      },
      "source": [
        "El grafico muestra que La mayoría de clientes tienen entre 2 y 3 meses de inactividad en los últimos 12 meses. Hay un pico en la frecuencia de clientes que tienen 3 meses de inactividad. Pocos clientes estuvieron inactivos por un mes o más de 4 meses."
      ]
    },
    {
      "cell_type": "markdown",
      "metadata": {
        "id": "MduasrqEXnVq"
      },
      "source": [
        "###Analisis bivariado###"
      ]
    },
    {
      "cell_type": "code",
      "source": [
        "plt.figure(figsize=(10, 4))\n",
        "\n",
        "sns.countplot(data=dataset, x='Customer_Age', hue='Attrition_Flag', palette=\"Set2\")\n",
        "plt.title('Distribución de la Edad de los Clientes por Estado de Abandono')\n",
        "plt.xlabel('Edad del Cliente')\n",
        "plt.ylabel('Cantidad de Clientes')\n",
        "plt.xticks(rotation=45)\n",
        "plt.legend(title='Estado de Abandono', loc='upper right')\n",
        "plt.tight_layout()\n",
        "plt.show()\n"
      ],
      "metadata": {
        "id": "2P98ZVvotJ4O"
      },
      "execution_count": null,
      "outputs": []
    },
    {
      "cell_type": "code",
      "execution_count": null,
      "metadata": {
        "id": "ygascZRwJTZy"
      },
      "outputs": [],
      "source": [
        "plt.figure(figsize=(10, 4))\n",
        "sns.countplot(data=dataset, x='Education_Level', hue='Attrition_Flag', palette=\"Set2\")\n",
        "plt.title('Distribución por Nivel de Educación según Estado de Abandono')\n",
        "plt.xlabel('Nivel de Educación')\n",
        "plt.ylabel('Cantidad de Clientes')\n",
        "plt.xticks(rotation=45)\n",
        "plt.legend(title='Estado de Abandono')\n",
        "plt.tight_layout()\n",
        "plt.show()\n"
      ]
    },
    {
      "cell_type": "code",
      "execution_count": null,
      "metadata": {
        "id": "vxF62I41ild8"
      },
      "outputs": [],
      "source": [
        "plt.figure(figsize=(10, 4))\n",
        "sns.countplot(data=dataset, x='Gender', hue='Attrition_Flag', palette=\"Set2\")\n",
        "plt.title('Distribución por Género según Estado de Abandono')\n",
        "plt.xlabel('Género')\n",
        "plt.ylabel('Cantidad de Clientes')\n",
        "plt.legend(title='Estado de Abandono')\n",
        "plt.tight_layout()\n",
        "plt.show()\n"
      ]
    },
    {
      "cell_type": "code",
      "source": [
        "plt.figure(figsize=(10, 4))\n",
        "sns.countplot(data=dataset, x='Marital_Status', hue='Attrition_Flag', palette=\"Set2\")\n",
        "plt.title('Distribución por Estado Civil según Estado de Abandono')\n",
        "plt.xlabel('Estado Civil')\n",
        "plt.ylabel('Cantidad de Clientes')\n",
        "plt.legend(title='Estado de Abandono')\n",
        "plt.tight_layout()\n",
        "plt.show()\n"
      ],
      "metadata": {
        "id": "ge9ogmFrrCUe"
      },
      "execution_count": null,
      "outputs": []
    },
    {
      "cell_type": "code",
      "execution_count": null,
      "metadata": {
        "id": "5FcjMbM2jd7J"
      },
      "outputs": [],
      "source": [
        "plt.figure(figsize=(10, 4))\n",
        "sns.countplot(data=dataset, x='Income_Category', hue='Attrition_Flag', palette=\"Set2\")\n",
        "plt.title('Distribución por Categoría de Ingresos según Estado de Abandono')\n",
        "plt.xlabel('Categoría de Ingresos')\n",
        "plt.ylabel('Cantidad de Clientes')\n",
        "plt.xticks(rotation=45)\n",
        "plt.legend(title='Estado de Abandono')\n",
        "plt.tight_layout()\n",
        "plt.show()\n"
      ]
    },
    {
      "cell_type": "code",
      "execution_count": null,
      "metadata": {
        "id": "S_ZC9zV_9SQX"
      },
      "outputs": [],
      "source": [
        "plt.figure(figsize=(10, 4))\n",
        "sns.countplot(data=dataset, x='Card_Category', hue='Attrition_Flag', palette=\"Set2\")\n",
        "plt.title('Distribución por Categoría de Tarjetas según Estado de Abandono')\n",
        "plt.xlabel('Categoría de Tarjeta')\n",
        "plt.ylabel('Cantidad de Clientes')\n",
        "plt.xticks(rotation=45)\n",
        "plt.legend(title='Estado de Abandono')\n",
        "plt.tight_layout()\n",
        "plt.show()\n"
      ]
    },
    {
      "cell_type": "markdown",
      "metadata": {
        "id": "5tIQnf4nYOPt"
      },
      "source": [
        "##Análisis multivariado"
      ]
    },
    {
      "cell_type": "code",
      "execution_count": null,
      "metadata": {
        "id": "NQ4thtFSkKnA"
      },
      "outputs": [],
      "source": [
        "correlation_matrix = dataset.corr(numeric_only=True)\n",
        "\n",
        "plt.figure(figsize=(16, 12))\n",
        "sns.heatmap(correlation_matrix, annot=True, cmap='coolwarm')\n",
        "plt.title('Matriz de correlación')\n",
        "plt.show()"
      ]
    },
    {
      "cell_type": "markdown",
      "metadata": {
        "id": "IStvrRgYycIN"
      },
      "source": [
        "#Encoding de variables categóricas"
      ]
    },
    {
      "cell_type": "code",
      "execution_count": null,
      "metadata": {
        "id": "7Ik40ANMcO6Y"
      },
      "outputs": [],
      "source": [
        "label_encoder = LabelEncoder()\n",
        "\n",
        "dataset_encoded = pd.get_dummies(dataset, columns=['Income_Category','Gender', 'Education_Level', 'Marital_Status', 'Card_Category' ], drop_first=True)\n"
      ]
    },
    {
      "cell_type": "code",
      "execution_count": null,
      "metadata": {
        "id": "Rw7ZNrn2yUoq"
      },
      "outputs": [],
      "source": [
        "dataset_encoded.head()"
      ]
    },
    {
      "cell_type": "code",
      "execution_count": null,
      "metadata": {
        "id": "nfv6RrkcytAn"
      },
      "outputs": [],
      "source": [
        "dataset_encoded.dtypes\n"
      ]
    },
    {
      "cell_type": "code",
      "source": [
        "from sklearn.preprocessing import StandardScaler\n",
        "scaler = StandardScaler()\n",
        "cols_to_scale = ['Customer_Age', 'Credit_Limit', 'Total_Trans_Amt']\n",
        "dataset[cols_to_scale] = scaler.fit_transform(dataset[cols_to_scale])\n"
      ],
      "metadata": {
        "id": "-gE86dLKuZoa"
      },
      "execution_count": null,
      "outputs": []
    },
    {
      "cell_type": "markdown",
      "metadata": {
        "id": "l4Y14yiAyfyO"
      },
      "source": [
        "#Feature selection"
      ]
    },
    {
      "cell_type": "code",
      "execution_count": null,
      "metadata": {
        "id": "JwkhVrnWyxvh"
      },
      "outputs": [],
      "source": [
        "X = dataset_encoded.drop(columns=['Attrition_Flag'])\n",
        "y = dataset_encoded['Attrition_Flag']\n"
      ]
    },
    {
      "cell_type": "markdown",
      "metadata": {
        "id": "6FWDwIRI48JC"
      },
      "source": [
        "#Split train test"
      ]
    },
    {
      "cell_type": "code",
      "execution_count": null,
      "metadata": {
        "id": "02ec-uL45AQp"
      },
      "outputs": [],
      "source": [
        "X_train, X_test, y_train, y_test = train_test_split(X, y, test_size=0.3, random_state=42)\n"
      ]
    },
    {
      "cell_type": "code",
      "source": [
        "X_train.shape"
      ],
      "metadata": {
        "id": "Q5YZsFEpnaW7"
      },
      "execution_count": null,
      "outputs": []
    },
    {
      "cell_type": "code",
      "source": [
        "X_test.shape"
      ],
      "metadata": {
        "id": "KwJq3NJvnlp1"
      },
      "execution_count": null,
      "outputs": []
    },
    {
      "cell_type": "markdown",
      "metadata": {
        "id": "SRTn708_5GxL"
      },
      "source": [
        "#Model selection"
      ]
    },
    {
      "cell_type": "markdown",
      "source": [
        "Entreno a los modelos con sus parametros por defecto"
      ],
      "metadata": {
        "id": "Ya2FZk7Me642"
      }
    },
    {
      "cell_type": "markdown",
      "source": [
        "**Arbol de decision**"
      ],
      "metadata": {
        "id": "e9Bg117WfJeg"
      }
    },
    {
      "cell_type": "code",
      "source": [
        "kfold = StratifiedKFold(n_splits=5, shuffle=True, random_state=42)\n",
        "dt_model = DecisionTreeClassifier(random_state=42)\n",
        "\n",
        "cv_scores_dt = cross_val_score(dt_model, X_train, y_train, cv=kfold, scoring=\"accuracy\", n_jobs=-1)\n",
        "print(f\"Accuracy CV (DecisionTree): {np.mean(cv_scores_dt):.4f} ± {np.std(cv_scores_dt):.4f}\")\n",
        "\n",
        "# Entrenamiento y evaluación\n",
        "dt_model.fit(X_train, y_train)\n",
        "y_pred_dt = dt_model.predict(X_test)\n",
        "\n",
        "print(f\"Accuracy Test (DecisionTree): {accuracy_score(y_test, y_pred_dt):.4f}\")"
      ],
      "metadata": {
        "id": "AnVpWJLTjSmR"
      },
      "execution_count": null,
      "outputs": []
    },
    {
      "cell_type": "markdown",
      "source": [
        "**Random forest**"
      ],
      "metadata": {
        "id": "MmROFQmWfWMS"
      }
    },
    {
      "cell_type": "code",
      "source": [
        "rf_model = RandomForestClassifier(random_state=42)\n",
        "\n",
        "cv_scores_rf = cross_val_score(rf_model, X_train, y_train, cv=kfold, scoring=\"accuracy\", n_jobs=-1)\n",
        "print(f\"Accuracy CV (RandomForest): {np.mean(cv_scores_rf):.4f} ± {np.std(cv_scores_rf):.4f}\")\n",
        "\n",
        "# Entrenamiento y evaluación\n",
        "rf_model.fit(X_train, y_train)\n",
        "y_pred_rf = rf_model.predict(X_test)\n",
        "\n",
        "print(f\"Accuracy Test (RandomForest): {accuracy_score(y_test, y_pred_rf):.4f}\")"
      ],
      "metadata": {
        "id": "z-TDexADjV_G"
      },
      "execution_count": null,
      "outputs": []
    },
    {
      "cell_type": "markdown",
      "source": [
        "**Gradient Boost**"
      ],
      "metadata": {
        "id": "07N_vmaHfcqp"
      }
    },
    {
      "cell_type": "code",
      "source": [
        "gb_model = GradientBoostingClassifier(random_state=42)\n",
        "\n",
        "cv_scores_gb = cross_val_score(gb_model, X_train, y_train, cv=kfold, scoring=\"accuracy\", n_jobs=-1)\n",
        "print(f\"Accuracy CV (GradientBoosting): {np.mean(cv_scores_gb):.4f} ± {np.std(cv_scores_gb):.4f}\")\n",
        "\n",
        "# Entrenamiento y evaluación\n",
        "gb_model.fit(X_train, y_train)\n",
        "y_pred_gb = gb_model.predict(X_test)\n",
        "\n",
        "print(f\"Accuracy Test (GradientBoosting): {accuracy_score(y_test, y_pred_gb):.4f}\")\n"
      ],
      "metadata": {
        "id": "s9PY_7C5jYbC"
      },
      "execution_count": null,
      "outputs": []
    },
    {
      "cell_type": "markdown",
      "source": [
        "**KNN**"
      ],
      "metadata": {
        "id": "SyQ6hr-Hfnix"
      }
    },
    {
      "cell_type": "code",
      "source": [
        "knn_model = KNeighborsClassifier()\n",
        "\n",
        "cv_scores_knn = cross_val_score(knn_model, X_train, y_train, cv=kfold, scoring=\"accuracy\", n_jobs=-1)\n",
        "print(f\"Accuracy CV (KNeighbors): {np.mean(cv_scores_knn):.4f} ± {np.std(cv_scores_knn):.4f}\")\n",
        "\n",
        "# Entrenamiento y evaluación\n",
        "knn_model.fit(X_train, y_train)\n",
        "y_pred_knn = knn_model.predict(X_test)\n",
        "\n",
        "print(f\"Accuracy Test (KNeighbors): {accuracy_score(y_test, y_pred_knn):.4f}\")\n",
        "\n"
      ],
      "metadata": {
        "id": "nW4E-J3VjZ6S"
      },
      "execution_count": null,
      "outputs": []
    },
    {
      "cell_type": "markdown",
      "source": [
        "**Regresion logistica**"
      ],
      "metadata": {
        "id": "Vzr8ltcaf0tK"
      }
    },
    {
      "cell_type": "code",
      "source": [
        "logreg_model = LogisticRegression(random_state=42, max_iter=1000)\n",
        "\n",
        "cv_scores_logreg = cross_val_score(logreg_model, X_train, y_train, cv=kfold, scoring=\"accuracy\", n_jobs=-1)\n",
        "print(f\"Accuracy CV (LogisticRegression): {np.mean(cv_scores_logreg):.4f} ± {np.std(cv_scores_logreg):.4f}\")\n",
        "\n",
        "# Entrenamiento y evaluación\n",
        "logreg_model.fit(X_train, y_train)\n",
        "y_pred_logreg = logreg_model.predict(X_test)\n",
        "\n",
        "print(f\"Accuracy Test (LogisticRegression): {accuracy_score(y_test, y_pred_logreg):.4f}\")"
      ],
      "metadata": {
        "id": "zUv39mo2jbo8"
      },
      "execution_count": null,
      "outputs": []
    },
    {
      "cell_type": "markdown",
      "source": [
        "**Grafico de barras de comparacion de accuracy de cada modelo**"
      ],
      "metadata": {
        "id": "ASWfS1eRgbIm"
      }
    },
    {
      "cell_type": "code",
      "source": [
        "random_state = 42\n",
        "kfold = StratifiedKFold(n_splits=5, shuffle=True, random_state=random_state)\n",
        "\n",
        "# Lista de clasificadores\n",
        "classifiers = []\n",
        "classifiers.append(DecisionTreeClassifier(random_state=random_state))\n",
        "classifiers.append(RandomForestClassifier(random_state=random_state))\n",
        "classifiers.append(GradientBoostingClassifier(random_state=random_state))\n",
        "classifiers.append(KNeighborsClassifier())\n",
        "classifiers.append(LogisticRegression(random_state=random_state, max_iter=1000))\n",
        "\n",
        "# Validación cruzada\n",
        "cv_results = []\n",
        "for classifier in classifiers:\n",
        "    cv_results.append(cross_val_score(classifier, X_train, y=y_train, scoring=\"accuracy\", cv=kfold, n_jobs=-1))\n",
        "\n",
        "# Calcular medias y desviaciones estándar de las puntuaciones\n",
        "cv_means = []\n",
        "cv_std = []\n",
        "for cv_result in cv_results:\n",
        "    cv_means.append(cv_result.mean())\n",
        "    cv_std.append(cv_result.std())\n",
        "\n",
        "# Crear un DataFrame con los resultados\n",
        "cv_res = pd.DataFrame({\n",
        "    \"CrossValMeans\": cv_means,\n",
        "    \"CrossValErrors\": cv_std,\n",
        "    \"Algorithm\": [ \"DecisionTree\", \"RandomForest\",\n",
        "                  \"GradientBoosting\", \"KNeighbors\", \"LogisticRegression\"]\n",
        "})\n",
        "\n",
        "# Visualización de los resultados\n",
        "# Visualización de los resultados con números en las barras\n",
        "plt.figure(figsize=(10, 6))\n",
        "bars = sns.barplot(\n",
        "    x=\"CrossValMeans\",\n",
        "    y=\"Algorithm\",\n",
        "    data=cv_res,\n",
        "    hue=\"Algorithm\",\n",
        "    dodge=False,\n",
        "    palette=\"Set3\",\n",
        "    orient=\"h\"\n",
        ")\n",
        "\n",
        "# Agregar números en las barras\n",
        "for index, row in cv_res.iterrows():\n",
        "    bars.text(row[\"CrossValMeans\"] + 0.01, index, f'{row[\"CrossValMeans\"]:.2f}', color='black', va='center')\n",
        "\n",
        "plt.xlabel(\"Mean Accuracy\")\n",
        "plt.title(\"Cross-validation scores for Bank Churn Dataset\")\n",
        "plt.legend(title=None, loc='lower right')\n",
        "plt.show()\n"
      ],
      "metadata": {
        "id": "jNP5WMfE2jOO"
      },
      "execution_count": null,
      "outputs": []
    },
    {
      "cell_type": "markdown",
      "source": [
        "Eleccion de mejores modelos: DecisionTree, RandomForest y\n",
        "                  GradientBoosting"
      ],
      "metadata": {
        "id": "sfYCx0JY8onr"
      }
    },
    {
      "cell_type": "markdown",
      "source": [
        "**Utilicacion de Grid search para mejorar hiperparametros**"
      ],
      "metadata": {
        "id": "bdZORSYmgpdR"
      }
    },
    {
      "cell_type": "markdown",
      "source": [
        "Se decide utilizar Grid Search para mejorar los hiperparametros ya que el tamaño del dataset lo permite y es la mejor herramienta para explorar todas las comnbinaciones posibles de hiperparametros"
      ],
      "metadata": {
        "id": "ksNaYyuMksqH"
      }
    },
    {
      "cell_type": "markdown",
      "source": [
        "**Gradient Boosting**"
      ],
      "metadata": {
        "id": "yl-u7aFZgwOC"
      }
    },
    {
      "cell_type": "code",
      "source": [
        "param_grid_gb = {\n",
        "    'n_estimators': [50, 100, 150],\n",
        "    'learning_rate': [0.01, 0.1, 0.2],\n",
        "    'max_depth': [3, 5, 7]\n",
        "}\n",
        "\n",
        "grid_search_gb = GridSearchCV(\n",
        "    GradientBoostingClassifier(random_state=42),\n",
        "    param_grid=param_grid_gb,\n",
        "    scoring='accuracy',\n",
        "    cv=5,\n",
        "    verbose=1,\n",
        "    n_jobs=-1\n",
        ")\n",
        "grid_search_gb.fit(X_train, y_train)\n",
        "print(f\"Best parameters for Gradient Boosting: {grid_search_gb.best_params_}\")\n",
        "print(f\"Best accuracy for Gradient Boosting: {grid_search_gb.best_score_:.4f}\")\n"
      ],
      "metadata": {
        "id": "LCz9dF6J_mkY"
      },
      "execution_count": null,
      "outputs": []
    },
    {
      "cell_type": "markdown",
      "source": [
        "**Random forest**"
      ],
      "metadata": {
        "id": "ETHH2oMgg0qN"
      }
    },
    {
      "cell_type": "code",
      "source": [
        "param_grid_rf = {\n",
        "    'n_estimators': [100, 200, 300],\n",
        "    'max_depth': [None, 10, 20],\n",
        "    'min_samples_split': [2, 5, 10]\n",
        "}\n",
        "\n",
        "grid_search_rf = GridSearchCV(\n",
        "    RandomForestClassifier(random_state=42),\n",
        "    param_grid=param_grid_rf,\n",
        "    scoring='accuracy',\n",
        "    cv=5,\n",
        "    verbose=1,\n",
        "    n_jobs=-1\n",
        ")\n",
        "grid_search_rf.fit(X_train, y_train)\n",
        "print(f\"Best parameters for Random Forest: {grid_search_rf.best_params_}\")\n",
        "print(f\"Best accuracy for Random Forest: {grid_search_rf.best_score_:.4f}\")\n"
      ],
      "metadata": {
        "id": "e7AOzgNu_r6d"
      },
      "execution_count": null,
      "outputs": []
    },
    {
      "cell_type": "markdown",
      "source": [
        "**Arbol de decision**"
      ],
      "metadata": {
        "id": "ec1cH5_Zg2-9"
      }
    },
    {
      "cell_type": "code",
      "source": [
        "param_grid_dt = {\n",
        "    'max_depth': [None, 5, 10, 20],\n",
        "    'min_samples_split': [2, 5, 10],\n",
        "    'min_samples_leaf': [1, 2, 4]\n",
        "}\n",
        "\n",
        "grid_search_dt = GridSearchCV(\n",
        "    DecisionTreeClassifier(random_state=42),\n",
        "    param_grid=param_grid_dt,\n",
        "    scoring='accuracy',\n",
        "    cv=5,\n",
        "    verbose=1,\n",
        "    n_jobs=-1\n",
        ")\n",
        "grid_search_dt.fit(X_train, y_train)\n",
        "print(f\"Best parameters for Decision Tree: {grid_search_dt.best_params_}\")\n",
        "print(f\"Best accuracy for Decision Tree: {grid_search_dt.best_score_:.4f}\")\n"
      ],
      "metadata": {
        "id": "DT6kT_sz_u-d"
      },
      "execution_count": null,
      "outputs": []
    },
    {
      "cell_type": "markdown",
      "source": [
        "**Grafico de la curva de aprendizaje**"
      ],
      "metadata": {
        "id": "-_eijxldh2w0"
      }
    },
    {
      "cell_type": "code",
      "source": [
        "def plot_learning_curve(estimator, X, y, title, cv=5, scoring='accuracy', n_jobs=-1):\n",
        "    train_sizes, train_scores, test_scores = learning_curve(\n",
        "        estimator, X, y, cv=cv, scoring=scoring, n_jobs=n_jobs, train_sizes=np.linspace(0.1, 1.0, 10)\n",
        "    )\n",
        "\n",
        "    train_scores_mean = np.mean(train_scores, axis=1)\n",
        "    train_scores_std = np.std(train_scores, axis=1)\n",
        "    test_scores_mean = np.mean(test_scores, axis=1)\n",
        "    test_scores_std = np.std(test_scores, axis=1)\n",
        "\n",
        "    plt.figure(figsize=(10, 6))\n",
        "    plt.title(title)\n",
        "    plt.xlabel(\"Training Set Size\")\n",
        "    plt.ylabel(scoring.capitalize())\n",
        "    plt.grid()\n",
        "\n",
        "    # Rellenar áreas de desviación estándar\n",
        "    plt.fill_between(train_sizes, train_scores_mean - train_scores_std, train_scores_mean + train_scores_std, alpha=0.1, color=\"r\")\n",
        "    plt.fill_between(train_sizes, test_scores_mean - test_scores_std, test_scores_mean + test_scores_std, alpha=0.1, color=\"g\")\n",
        "\n",
        "    # Graficar las líneas de desempeño\n",
        "    plt.plot(train_sizes, train_scores_mean, 'o-', color=\"r\", label=\"Training score\")\n",
        "    plt.plot(train_sizes, test_scores_mean, 'o-', color=\"g\", label=\"Validation score\")\n",
        "\n",
        "    plt.legend(loc=\"best\")\n",
        "    plt.show()\n",
        "\n"
      ],
      "metadata": {
        "id": "6zfqtMsA_vwN"
      },
      "execution_count": null,
      "outputs": []
    },
    {
      "cell_type": "code",
      "source": [
        "plot_learning_curve(GradientBoostingClassifier(random_state=42), X_train, y_train, \"Learning Curve: Gradient Boosting\")\n"
      ],
      "metadata": {
        "id": "W5KhfOBL_vsN"
      },
      "execution_count": null,
      "outputs": []
    },
    {
      "cell_type": "code",
      "source": [
        "plot_learning_curve(RandomForestClassifier(random_state=42), X_train, y_train, \"Learning Curve: Random Forest\")\n"
      ],
      "metadata": {
        "id": "THCAJr_J_vbj"
      },
      "execution_count": null,
      "outputs": []
    },
    {
      "cell_type": "code",
      "source": [
        "plot_learning_curve(DecisionTreeClassifier(random_state=42), X_train, y_train, \"Learning Curve: Decision Tree\")\n"
      ],
      "metadata": {
        "id": "as3KVzaQNPGC"
      },
      "execution_count": null,
      "outputs": []
    },
    {
      "cell_type": "markdown",
      "metadata": {
        "id": "XO4AnEAz5Vx8"
      },
      "source": [
        "#Evaluacion final\n"
      ]
    },
    {
      "cell_type": "markdown",
      "source": [
        "Se utiliza AUC ya que el dataset esta desbalanceado, el número de clientes que permanecen con el banco (Existing Customer) es significativamente mayor que el número de clientes que abandonan el banco (Attrited Customer)"
      ],
      "metadata": {
        "id": "tUZTkajGmdys"
      }
    },
    {
      "cell_type": "code",
      "source": [
        "best_gb_model = grid_search_gb.best_estimator_\n",
        "\n",
        "# Hacer predicciones con el conjunto de prueba\n",
        "y_pred = best_gb_model.predict(X_test)\n",
        "\n",
        "# Evaluar el modelo\n",
        "accuracy = accuracy_score(y_test, y_pred)\n",
        "print(f\"Accuracy del modelo: {accuracy:.4f}\")\n",
        "\n",
        "# Generar el reporte de clasificación\n",
        "print(\"\\nReporte de clasificación:\\n\", classification_report(y_test, y_pred))\n",
        "\n",
        "# Mostrar la matriz de confusión\n",
        "print(\"\\nMatriz de confusión:\\n\", confusion_matrix(y_test, y_pred))\n",
        "\n",
        "y_prob = grid_search_gb.predict_proba(X_test)[:, 1]  # Probabilidades de la clase positiva\n",
        "auc = roc_auc_score(y_test, y_prob)\n",
        "print(f\"AUC: {auc:.4f}\")\n",
        "\n",
        "\n"
      ],
      "metadata": {
        "id": "PQI9apunZRxg"
      },
      "execution_count": null,
      "outputs": []
    },
    {
      "cell_type": "markdown",
      "source": [
        "#Conclusion#"
      ],
      "metadata": {
        "id": "frwrSscMncjS"
      }
    },
    {
      "cell_type": "markdown",
      "source": [
        "Los resultados muestran un accuracy de 0.9697 y un AUC de 0.9934, lo que indica que el modelo tiene una alta efectividad para predecir el abandono de clientes.\n",
        "Con respecto a la precision 0.92 para la clase Attrited Customer muestra que el modelo identifica correctamente a la mayoría de los clientes que abandonan el banco.\n",
        "El valor de recall 0.89 indica que el modelo detecta a la mayoría de los clientes propensos a abandonar.\n",
        "El F1-score 0.91 confirma que el modelo logra un buen equilibrio entre ambos tiene excelente rendimiento para predecir la permanencia o no de un cliente en el banco."
      ],
      "metadata": {
        "id": "9K-rID2Yneq5"
      }
    }
  ],
  "metadata": {
    "colab": {
      "toc_visible": true,
      "provenance": [],
      "authorship_tag": "ABX9TyPryLIH4/ibycWoIPILq8/9",
      "include_colab_link": true
    },
    "kernelspec": {
      "display_name": "Python 3",
      "name": "python3"
    },
    "language_info": {
      "name": "python"
    }
  },
  "nbformat": 4,
  "nbformat_minor": 0
}